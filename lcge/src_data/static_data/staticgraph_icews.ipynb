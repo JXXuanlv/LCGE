{
 "cells": [
  {
   "cell_type": "code",
   "execution_count": null,
   "metadata": {},
   "outputs": [],
   "source": [
    "f = open(\"../../src_data/ICEWS05-15/train\")\n",
    "triple = []\n",
    "for line in f:\n",
    "    e1, r, e2, time = line.split(\"\\t\")\n",
    "    triple.append(e1 + \"\\t\" + r + \"\\t\" + e2 + \"\\n\")\n",
    "f.close()\n",
    "\n",
    "f = open(\"../../src_data/ICEWS05-15/valid\")\n",
    "for line in f:\n",
    "    e1, r, e2, time = line.split(\"\\t\")\n",
    "    triple.append(e1 + \"\\t\" + r + \"\\t\" + e2 + \"\\n\")\n",
    "f.close()\n",
    "\n",
    "f_save = open(\"../rulelearning/ICEWS15/triples.tsv\", 'w')\n",
    "count = 0\n",
    "for tri in triple:\n",
    "    f_save.write(tri)\n",
    "    count += 1\n",
    "print(\"the amount of triples is:\\t\", count)\n",
    "f_save.close()"
   ]
  },
  {
   "cell_type": "code",
   "execution_count": null,
   "metadata": {},
   "outputs": [],
   "source": [
    "f = open(\"../../src_data/ICEWS14/train\")\n",
    "triple = []\n",
    "for line in f:\n",
    "    e1, r, e2, start, end = line.split(\"\\t\")\n",
    "    triple.append(e1 + \"\\t\" + r + \"\\t\" + e2 + \"\\n\")\n",
    "f.close()\n",
    "\n",
    "f = open(\"../../src_data/ICEWS14/valid\")\n",
    "for line in f:\n",
    "    e1, r, e2, _, _ = line.split(\"\\t\")\n",
    "    triple.append(e1 + \"\\t\" + r + \"\\t\" + e2 + \"\\n\")\n",
    "f.close()\n",
    "\n",
    "f_save = open(\"../rulelearning/ICEWS14/triples.tsv\", 'w')\n",
    "count = 0\n",
    "for tri in triple:\n",
    "    f_save.write(tri)\n",
    "    count += 1\n",
    "print(\"the amount of triples is:\\t\", count)\n",
    "f_save.close()"
   ]
  }
 ],
 "metadata": {
  "kernelspec": {
   "display_name": "Python 3",
   "language": "python",
   "name": "python3"
  },
  "language_info": {
   "codemirror_mode": {
    "name": "ipython",
    "version": 3
   },
   "file_extension": ".py",
   "mimetype": "text/x-python",
   "name": "python",
   "nbconvert_exporter": "python",
   "pygments_lexer": "ipython3",
   "version": "3.6.8"
  }
 },
 "nbformat": 4,
 "nbformat_minor": 2
}
